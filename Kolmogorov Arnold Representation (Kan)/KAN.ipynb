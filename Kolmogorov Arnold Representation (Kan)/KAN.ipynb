{
 "cells": [
  {
   "cell_type": "code",
   "execution_count": 2,
   "metadata": {},
   "outputs": [],
   "source": [
    "import os\n",
    "import pandas as pd\n",
    "import numpy as np\n",
    "from collections import Counter\n",
    "\n",
    "# Visualization\n",
    "\n",
    "import matplotlib.pyplot as plt\n",
    "import plotly.express as px"
   ]
  },
  {
   "cell_type": "code",
   "execution_count": 3,
   "metadata": {},
   "outputs": [],
   "source": [
    "def spline(input):\n",
    "\n",
    "    return abs(input)\n",
    "\n",
    "def ReLu(input):\n",
    "    return max(0.1*input,input)"
   ]
  },
  {
   "cell_type": "code",
   "execution_count": 4,
   "metadata": {},
   "outputs": [],
   "source": [
    "class Neuron:\n",
    "\n",
    "    def __init__(self,input,activation_type = \"ReLu\"):\n",
    "       \n",
    "       self.pre_layer = input\n",
    "       self.value = self.output(self.pre_layer)\n",
    "       self.activation = activation_type\n",
    "\n",
    "    def output(self,input):\n",
    "        \n",
    "        '''\n",
    "        Input : Value of nodes from previous layer\n",
    "        sum : Adding together nodes after passing them through activation function (Bspline)\n",
    "\n",
    "        '''\n",
    "        # length = len(input)\n",
    "        sum = 0\n",
    "        for i in input:\n",
    "\n",
    "            sum += spline(i)\n",
    "\n",
    "        return sum"
   ]
  },
  {
   "cell_type": "code",
   "execution_count": 5,
   "metadata": {},
   "outputs": [],
   "source": [
    "x = [-1,-2,-3,-4,-5,-6]"
   ]
  },
  {
   "cell_type": "code",
   "execution_count": 6,
   "metadata": {},
   "outputs": [],
   "source": [
    "y = Neuron(x)"
   ]
  },
  {
   "cell_type": "code",
   "execution_count": 8,
   "metadata": {},
   "outputs": [
    {
     "data": {
      "text/plain": [
       "21"
      ]
     },
     "execution_count": 8,
     "metadata": {},
     "output_type": "execute_result"
    }
   ],
   "source": [
    "y.value"
   ]
  },
  {
   "cell_type": "code",
   "execution_count": 9,
   "metadata": {},
   "outputs": [],
   "source": [
    "from scipy import interpolate"
   ]
  },
  {
   "cell_type": "code",
   "execution_count": 10,
   "metadata": {},
   "outputs": [],
   "source": [
    "ctr =np.array( [(3 , 1), (2.5, 4), (0, 1), (-2.5, 4),\n",
    "                (-3, 0), (-2.5, -4), (0, -1), (2.5, -4), (3, -1)])\n",
    "\n",
    "x1=ctr[:,0]\n",
    "y1=ctr[:,1]"
   ]
  },
  {
   "cell_type": "code",
   "execution_count": 11,
   "metadata": {},
   "outputs": [
    {
     "ename": "NameError",
     "evalue": "name 'out' is not defined",
     "output_type": "error",
     "traceback": [
      "\u001b[1;31m---------------------------------------------------------------------------\u001b[0m",
      "\u001b[1;31mNameError\u001b[0m                                 Traceback (most recent call last)",
      "Input \u001b[1;32mIn [11]\u001b[0m, in \u001b[0;36m<cell line: 2>\u001b[1;34m()\u001b[0m\n\u001b[0;32m      1\u001b[0m \u001b[38;5;66;03m# plt.plot(x1,y1,\"ro\")\u001b[39;00m\n\u001b[1;32m----> 2\u001b[0m plt\u001b[38;5;241m.\u001b[39mplot(\u001b[43mout\u001b[49m[\u001b[38;5;241m0\u001b[39m],out[\u001b[38;5;241m1\u001b[39m],\u001b[38;5;124m\"\u001b[39m\u001b[38;5;124mro\u001b[39m\u001b[38;5;124m\"\u001b[39m)\n",
      "\u001b[1;31mNameError\u001b[0m: name 'out' is not defined"
     ]
    }
   ],
   "source": [
    "# plt.plot(x1,y1,\"ro\")\n",
    "plt.plot(out[0],out[1],\"ro\")"
   ]
  },
  {
   "cell_type": "code",
   "execution_count": 13,
   "metadata": {},
   "outputs": [],
   "source": [
    "\n",
    "tck,u = interpolate.splprep([x1,y1],k=3,s=0)"
   ]
  },
  {
   "cell_type": "code",
   "execution_count": 14,
   "metadata": {},
   "outputs": [
    {
     "data": {
      "image/png": "[encoded data removed]",
      "text/plain": [
       "<Figure size 432x288 with 1 Axes>"
      ]
     },
     "metadata": {
      "needs_background": "light"
     },
     "output_type": "display_data"
    }
   ],
   "source": [
    "u=np.linspace(0,1,num=50,endpoint=True)\n",
    "out = interpolate.splev(u,tck)\n",
    "\n",
    "plt.figure()\n",
    "plt.plot(x1, y1, 'ro', out[0], out[1], 'b')\n",
    "plt.legend(['Points', 'Interpolated B-spline', 'True'],loc='best')\n",
    "plt.axis([min(x1)-1, max(x1)+1, min(y1)-1, max(y1)+1])\n",
    "plt.title('B-Spline interpolation')\n",
    "plt.show()"
   ]
  },
  {
   "cell_type": "code",
   "execution_count": 27,
   "metadata": {},
   "outputs": [],
   "source": [
    "import torch\n",
    "\n",
    "\n",
    "def B_batch(x, grid, k=0, extend=True, device='cpu'):\n",
    "    '''\n",
    "    evaludate x on B-spline bases\n",
    "    \n",
    "    Args:\n",
    "    -----\n",
    "        x : 2D torch.tensor\n",
    "            inputs, shape (number of splines, number of samples)\n",
    "        grid : 2D torch.tensor\n",
    "            grids, shape (number of splines, number of grid points)\n",
    "        k : int\n",
    "            the piecewise polynomial order of splines.\n",
    "        extend : bool\n",
    "            If True, k points are extended on both ends. If False, no extension (zero boundary condition). Default: True\n",
    "        device : str\n",
    "            devicde\n",
    "    \n",
    "    Returns:\n",
    "    --------\n",
    "        spline values : 3D torch.tensor\n",
    "            shape (number of splines, number of B-spline bases (coeffcients), number of samples). The numbef of B-spline bases = number of grid points + k - 1.\n",
    "      \n",
    "    Example\n",
    "    -------\n",
    "    >>> num_spline = 5\n",
    "    >>> num_sample = 100\n",
    "    >>> num_grid_interval = 10\n",
    "    >>> k = 3\n",
    "    >>> x = torch.normal(0,1,size=(num_spline, num_sample))\n",
    "    >>> grids = torch.einsum('i,j->ij', torch.ones(num_spline,), torch.linspace(-1,1,steps=num_grid_interval+1))\n",
    "    >>> B_batch(x, grids, k=k).shape\n",
    "    torch.Size([5, 13, 100])\n",
    "    '''\n",
    "\n",
    "    # x shape: (size, x); grid shape: (size, grid)\n",
    "    def extend_grid(grid, k_extend=0):\n",
    "        # pad k to left and right\n",
    "        # grid shape: (batch, grid)\n",
    "        h = (grid[:, [-1]] - grid[:, [0]]) / (grid.shape[1] - 1)\n",
    "\n",
    "        for i in range(k_extend):\n",
    "            grid = torch.cat([grid[:, [0]] - h, grid], dim=1)\n",
    "            grid = torch.cat([grid, grid[:, [-1]] + h], dim=1)\n",
    "        grid = grid.to(device)\n",
    "        return grid\n",
    "\n",
    "    if extend == True:\n",
    "        grid = extend_grid(grid, k_extend=k)\n",
    "\n",
    "    grid = grid.unsqueeze(dim=2).to(device)\n",
    "    x = x.unsqueeze(dim=1).to(device)\n",
    "\n",
    "    if k == 0:\n",
    "        value = (x >= grid[:, :-1]) * (x < grid[:, 1:])\n",
    "    else:\n",
    "        B_km1 = B_batch(x[:, 0], grid=grid[:, :, 0], k=k - 1, extend=False, device=device)\n",
    "        value = (x - grid[:, :-(k + 1)]) / (grid[:, k:-1] - grid[:, :-(k + 1)]) * B_km1[:, :-1] + (\n",
    "                    grid[:, k + 1:] - x) / (grid[:, k + 1:] - grid[:, 1:(-k)]) * B_km1[:, 1:]\n",
    "    return value\n",
    "\n",
    "def coef2curve(x_eval, grid, coef, k, device=\"cpu\"):\n",
    "    '''\n",
    "    converting B-spline coefficients to B-spline curves. Evaluate x on B-spline curves (summing up B_batch results over B-spline basis).\n",
    "    \n",
    "    Args:\n",
    "    -----\n",
    "        x_eval : 2D torch.tensor)\n",
    "            shape (number of splines, number of samples)\n",
    "        grid : 2D torch.tensor)\n",
    "            shape (number of splines, number of grid points)\n",
    "        coef : 2D torch.tensor)\n",
    "            shape (number of splines, number of coef params). number of coef params = number of grid intervals + k\n",
    "        k : int\n",
    "            the piecewise polynomial order of splines.\n",
    "        device : str\n",
    "            devicde\n",
    "        \n",
    "    Returns:\n",
    "    --------\n",
    "        y_eval : 2D torch.tensor\n",
    "            shape (number of splines, number of samples)\n",
    "        \n",
    "    Example\n",
    "    -------\n",
    "    >>> num_spline = 5\n",
    "    >>> num_sample = 100\n",
    "    >>> num_grid_interval = 10\n",
    "    >>> k = 3\n",
    "    >>> x_eval = torch.normal(0,1,size=(num_spline, num_sample))\n",
    "    >>> grids = torch.einsum('i,j->ij', torch.ones(num_spline,), torch.linspace(-1,1,steps=num_grid_interval+1))\n",
    "    >>> coef = torch.normal(0,1,size=(num_spline, num_grid_interval+k))\n",
    "    >>> coef2curve(x_eval, grids, coef, k=k).shape\n",
    "    torch.Size([5, 100])\n",
    "    '''\n",
    "    # x_eval: (size, batch), grid: (size, grid), coef: (size, coef)\n",
    "    # coef: (size, coef), B_batch: (size, coef, batch), summer over coef\n",
    "    if coef.dtype != x_eval.dtype:\n",
    "        coef = coef.to(x_eval.dtype)\n",
    "    y_eval = torch.einsum('ij,ijk->ik', coef, B_batch(x_eval, grid, k, device=device))\n",
    "    return y_eval\n",
    "\n",
    "\n",
    "def curve2coef(x_eval, y_eval, grid, k, device=\"cpu\"):\n",
    "    '''\n",
    "    converting B-spline curves to B-spline coefficients using least squares.\n",
    "    \n",
    "    Args:\n",
    "    -----\n",
    "        x_eval : 2D torch.tensor\n",
    "            shape (number of splines, number of samples)\n",
    "        y_eval : 2D torch.tensor\n",
    "            shape (number of splines, number of samples)\n",
    "        grid : 2D torch.tensor\n",
    "            shape (number of splines, number of grid points)\n",
    "        k : int\n",
    "            the piecewise polynomial order of splines.\n",
    "        device : str\n",
    "            devicde\n",
    "        \n",
    "    Example\n",
    "    -------\n",
    "    >>> num_spline = 5\n",
    "    >>> num_sample = 100\n",
    "    >>> num_grid_interval = 10\n",
    "    >>> k = 3\n",
    "    >>> x_eval = torch.normal(0,1,size=(num_spline, num_sample))\n",
    "    >>> y_eval = torch.normal(0,1,size=(num_spline, num_sample))\n",
    "    >>> grids = torch.einsum('i,j->ij', torch.ones(num_spline,), torch.linspace(-1,1,steps=num_grid_interval+1))\n",
    "    torch.Size([5, 13])\n",
    "    '''\n",
    "    # x_eval: (size, batch); y_eval: (size, batch); grid: (size, grid); k: scalar\n",
    "    mat = B_batch(x_eval, grid, k, device=device).permute(0, 2, 1)\n",
    "    # coef = torch.linalg.lstsq(mat, y_eval.unsqueeze(dim=2)).solution[:, :, 0]\n",
    "    coef = torch.linalg.lstsq(mat.to(device), y_eval.unsqueeze(dim=2).to(device),\n",
    "                              driver='gelsy' if device == 'cpu' else 'gels').solution[:, :, 0]\n",
    "    return coef.to(device)"
   ]
  },
  {
   "cell_type": "code",
   "execution_count": 20,
   "metadata": {},
   "outputs": [],
   "source": [
    "device = torch.device(\"cuda\" if torch.cuda.is_available() else \"cpu\")"
   ]
  },
  {
   "cell_type": "markdown",
   "metadata": {},
   "source": [
    "1. Each node in layer 1 will take combination of spline(input1) + spline(input2)\n",
    "2. The numpber of splines for each input is equal to number of nodes in outer layer.\n",
    "3. So for 2 inputer x1 -->  spline(x1,1) -------> node 1 (same node as below)\n",
    "                            spline(x1,2) -------> node 2\n",
    "                            spline(x1,3) -------> node 3 \n",
    "\n",
    "                    x2 -->  spline(x2,1) -------> node 1\n",
    "                            spline(x2,2) -------> node 2\n",
    "                            spline(x2,3) -------> node 3\n",
    "4. Further each spline is composite of grid points = grid intervals + 1.\n",
    "\n",
    "\n",
    "Spline\n",
    "\n",
    "1. A spline is composite of n curves. (basis function)\n",
    "2. The values of these curve depend on no. grid points G and order of polynomial K\n",
    "3. So for e.g, a cubic basis function k = 3 and G= 5, will have 7 basis functions.\n",
    "4. These function will combine to form a single curve.\n",
    "5. Now we can increase the grid points to add more curves in the same interval, thus increase granularity.\n",
    "\n",
    " phi(x) = Σ c_i * B_i(x) is th equation for a spline.\n",
    "\n",
    " 1. Here i is the number of grids points\n",
    " 2. B_i(x) is the function corresponding each i values.\n",
    " 3. These multiple B_i(x) combine to form one spline.\n",
    " 4. Each B_i will cover a certain interval of grid/control points.\n",
    " 5. THe control points are coefficneicts c_i\n",
    " 6. Therefore c_i = t0 + t1+ ...+ tn"
   ]
  },
  {
   "cell_type": "code",
   "execution_count": 29,
   "metadata": {},
   "outputs": [],
   "source": [
    "num_spline = 5\n",
    "num_sample = 100\n",
    "num_grid_interval = 10\n",
    "k = 3\n",
    "x = torch.normal(0,1,size=(num_spline, num_sample))\n",
    "grid = torch.einsum('i,j->ij', torch.ones(num_spline,), torch.linspace(-1,1,steps=num_grid_interval+1))\n"
   ]
  },
  {
   "cell_type": "code",
   "execution_count": null,
   "metadata": {},
   "outputs": [],
   "source": []
  }
 ],
 "metadata": {
  "kernelspec": {
   "display_name": "MLAI",
   "language": "python",
   "name": "python3"
  },
  "language_info": {
   "codemirror_mode": {
    "name": "ipython",
    "version": 3
   },
   "file_extension": ".py",
   "mimetype": "text/x-python",
   "name": "python",
   "nbconvert_exporter": "python",
   "pygments_lexer": "ipython3",
   "version": "3.9.10"
  }
 },
 "nbformat": 4,
 "nbformat_minor": 2
}
