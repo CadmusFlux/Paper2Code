{
 "cells": [
  {
   "cell_type": "code",
   "execution_count": 22,
   "metadata": {},
   "outputs": [],
   "source": [
    "import os\n",
    "import pandas as pd\n",
    "import numpy as np\n",
    "from collections import Counter\n",
    "\n",
    "# Visualization\n",
    "\n",
    "import matplotlib.pyplot as plt\n",
    "import plotly.express as px"
   ]
  },
  {
   "cell_type": "code",
   "execution_count": 24,
   "metadata": {},
   "outputs": [],
   "source": [
    "def spline(input):\n",
    "\n",
    "    return abs(input)\n",
    "\n",
    "def ReLu(input):\n",
    "    return max(0.1*input,input)"
   ]
  },
  {
   "cell_type": "code",
   "execution_count": 25,
   "metadata": {},
   "outputs": [],
   "source": [
    "class Neuron:\n",
    "\n",
    "    def __init__(self,input,activation_type = \"ReLu\"):\n",
    "       \n",
    "       self.pre_layer = input\n",
    "       self.value = self.output(self.pre_layer)\n",
    "       self.activation = activation_type\n",
    "\n",
    "    def output(self,input):\n",
    "        \n",
    "        '''\n",
    "        Input : Value of nodes from previous layer\n",
    "        sum : Adding together nodes after passing them through activation function (Bspline)\n",
    "\n",
    "        '''\n",
    "        # length = len(input)\n",
    "        sum = 0\n",
    "        for i in input:\n",
    "\n",
    "            sum += spline(i)\n",
    "\n",
    "        return sum"
   ]
  },
  {
   "cell_type": "code",
   "execution_count": 26,
   "metadata": {},
   "outputs": [],
   "source": [
    "x = [-1,-2,-3,-4,-5,-6]"
   ]
  },
  {
   "cell_type": "code",
   "execution_count": 27,
   "metadata": {},
   "outputs": [],
   "source": [
    "y = Neuron(x)"
   ]
  },
  {
   "cell_type": "code",
   "execution_count": 28,
   "metadata": {},
   "outputs": [
    {
     "data": {
      "text/plain": [
       "21"
      ]
     },
     "execution_count": 28,
     "metadata": {},
     "output_type": "execute_result"
    }
   ],
   "source": [
    "y.value"
   ]
  },
  {
   "cell_type": "code",
   "execution_count": 34,
   "metadata": {},
   "outputs": [],
   "source": [
    "from scipy import interpolate"
   ]
  },
  {
   "cell_type": "code",
   "execution_count": 32,
   "metadata": {},
   "outputs": [],
   "source": [
    "ctr =np.array( [(3 , 1), (2.5, 4), (0, 1), (-2.5, 4),\n",
    "                (-3, 0), (-2.5, -4), (0, -1), (2.5, -4), (3, -1)])\n",
    "\n",
    "x1=ctr[:,0]\n",
    "y1=ctr[:,1]"
   ]
  },
  {
   "cell_type": "code",
   "execution_count": 53,
   "metadata": {},
   "outputs": [
    {
     "data": {
      "text/plain": [
       "[<matplotlib.lines.Line2D at 0x1d4ff738ee0>]"
      ]
     },
     "execution_count": 53,
     "metadata": {},
     "output_type": "execute_result"
    },
    {
     "data": {
      "image/png": "[encoded data removed]",
      "text/plain": [
       "<Figure size 432x288 with 1 Axes>"
      ]
     },
     "metadata": {
      "needs_background": "light"
     },
     "output_type": "display_data"
    }
   ],
   "source": [
    "# plt.plot(x1,y1,\"ro\")\n",
    "plt.plot(out[0],out[1],\"ro\")"
   ]
  },
  {
   "cell_type": "code",
   "execution_count": 36,
   "metadata": {},
   "outputs": [],
   "source": [
    "\n",
    "tck,u = interpolate.splprep([x1,y1],k=3,s=0)"
   ]
  },
  {
   "cell_type": "code",
   "execution_count": 44,
   "metadata": {},
   "outputs": [
    {
     "data": {
      "text/plain": [
       "array([0.        , 0.        , 0.        , 0.        , 0.23337426,\n",
       "       0.36457052, 0.5       , 0.63542948, 0.76662574, 1.        ,\n",
       "       1.        , 1.        , 1.        ])"
      ]
     },
     "execution_count": 44,
     "metadata": {},
     "output_type": "execute_result"
    }
   ],
   "source": [
    "tck[0]"
   ]
  },
  {
   "cell_type": "code",
   "execution_count": 38,
   "metadata": {},
   "outputs": [
    {
     "data": {
      "text/plain": [
       "array([0.        , 0.102178  , 0.23337426, 0.36457052, 0.5       ,\n",
       "       0.63542948, 0.76662574, 0.897822  , 1.        ])"
      ]
     },
     "execution_count": 38,
     "metadata": {},
     "output_type": "execute_result"
    }
   ],
   "source": [
    "u"
   ]
  },
  {
   "cell_type": "code",
   "execution_count": 50,
   "metadata": {},
   "outputs": [
    {
     "data": {
      "text/plain": [
       "array([ 1.        ,  2.61056076,  3.62454074,  4.13348082,  4.22892189,\n",
       "        4.00240484,  3.54547054,  2.94965989,  2.30651377,  1.70757306,\n",
       "        1.24437866,  1.00847144,  1.08541318,  1.45746847,  2.01965647,\n",
       "        2.66425634,  3.28354721,  3.76980823,  4.01538488,  3.9509726 ,\n",
       "        3.6098907 ,  3.04244275,  2.29893231,  1.42966296,  0.48493825,\n",
       "       -0.48493825, -1.42966296, -2.29893231, -3.04244275, -3.6098907 ,\n",
       "       -3.9509726 , -4.01538488, -3.76980823, -3.28354721, -2.66425634,\n",
       "       -2.01965647, -1.45746847, -1.08541318, -1.00847144, -1.24437866,\n",
       "       -1.70757306, -2.30651377, -2.94965989, -3.54547054, -4.00240484,\n",
       "       -4.22892189, -4.13348082, -3.62454074, -2.61056076, -1.        ])"
      ]
     },
     "execution_count": 50,
     "metadata": {},
     "output_type": "execute_result"
    }
   ],
   "source": [
    "out[1]"
   ]
  },
  {
   "cell_type": "code",
   "execution_count": 45,
   "metadata": {},
   "outputs": [
    {
     "data": {
      "image/png": "[encoded data removed]",
      "text/plain": [
       "<Figure size 432x288 with 1 Axes>"
      ]
     },
     "metadata": {
      "needs_background": "light"
     },
     "output_type": "display_data"
    }
   ],
   "source": [
    "u=np.linspace(0,1,num=50,endpoint=True)\n",
    "out = interpolate.splev(u,tck)\n",
    "\n",
    "plt.figure()\n",
    "plt.plot(x1, y1, 'ro', out[0], out[1], 'b')\n",
    "plt.legend(['Points', 'Interpolated B-spline', 'True'],loc='best')\n",
    "plt.axis([min(x1)-1, max(x1)+1, min(y1)-1, max(y1)+1])\n",
    "plt.title('B-Spline interpolation')\n",
    "plt.show()"
   ]
  }
 ],
 "metadata": {
  "kernelspec": {
   "display_name": "MLAI",
   "language": "python",
   "name": "python3"
  },
  "language_info": {
   "codemirror_mode": {
    "name": "ipython",
    "version": 3
   },
   "file_extension": ".py",
   "mimetype": "text/x-python",
   "name": "python",
   "nbconvert_exporter": "python",
   "pygments_lexer": "ipython3",
   "version": "3.9.10"
  }
 },
 "nbformat": 4,
 "nbformat_minor": 2
}
